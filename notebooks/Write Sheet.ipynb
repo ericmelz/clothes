{
 "cells": [
  {
   "cell_type": "code",
   "execution_count": 4,
   "id": "07b2f5fb-60a2-45a2-be07-dc612aa1f24e",
   "metadata": {},
   "outputs": [],
   "source": [
    "from wardrobe.google_sheets import SheetsWriter\n",
    "from wardrobe import WardrobeGenerator\n",
    "from pathlib import Path\n",
    "import os"
   ]
  },
  {
   "cell_type": "code",
   "execution_count": 5,
   "id": "fc0b2d83-47b3-4c04-b5de-4078df8b723c",
   "metadata": {},
   "outputs": [],
   "source": [
    "data_path = Path(os.getenv(\"HOME\")) / \"Data\" / \"wardrobe\"\n",
    "code_path = Path(os.getenv(\"HOME\")) / \"Data\" / \"code\"\n",
    "source_data_path = data_path / \"source_data\"\n",
    "\n",
    "auth_path =  data_path / \"auth\"\n",
    "output_path_str = str(data_path / \"output3\")\n",
    "\n",
    "creds_path_str = str(auth_path / \"credentials.json\")\n",
    "readwrite_token_path_str = str(auth_path / \"token.json\")\n",
    "readonly_token_path_str = str(auth_path / \"token_readonly.json\")\n",
    "\n",
    "site_template_path_str = str(code_path / \"clothes\" / \"src\" / \"site_template\")\n",
    "\n",
    "source_path_str = str(source_data_path / \"erics-clothes\")"
   ]
  },
  {
   "cell_type": "code",
   "execution_count": 22,
   "id": "15be27de-fc2b-426e-b3d4-510b6b830b6b",
   "metadata": {},
   "outputs": [],
   "source": [
    "sheet_title = \"Eric's Wardrobe Test1\"\n",
    "parent_folder_id = \"1d1KFAo3jcomqzm05vpY5S_Vmbrh5_lyw\"\n",
    "share_with_email = False"
   ]
  },
  {
   "cell_type": "code",
   "execution_count": 6,
   "id": "dcb50e79-9752-4857-ada9-05e9b386f35d",
   "metadata": {},
   "outputs": [],
   "source": [
    "wg = WardrobeGenerator(\n",
    "    source_dir=source_path_str, \n",
    "    output_dir=output_path_str, \n",
    "    site_template_dir=site_template_path_str, \n",
    "    skip_image_processing=True, \n",
    "    readwrite_token_path=readwrite_token_path_str,\n",
    "    readonly_token_path=readonly_token_path_str,\n",
    "    creds_path=creds_path_str,\n",
    "    metadata_sheetname=\"eric-wardrobe\")"
   ]
  },
  {
   "cell_type": "code",
   "execution_count": 7,
   "id": "a459d32b-d33d-4f8a-bc44-f69d7aa00c42",
   "metadata": {},
   "outputs": [
    {
     "data": {
      "text/plain": [
       "<wardrobe.google_sheets.reader.SheetsReader at 0x10ebfe1e0>"
      ]
     },
     "execution_count": 7,
     "metadata": {},
     "output_type": "execute_result"
    }
   ],
   "source": [
    "wg.sheets_reader"
   ]
  },
  {
   "cell_type": "code",
   "execution_count": 8,
   "id": "a2217bc7-05f6-47e1-bb5c-e385baedd1d8",
   "metadata": {},
   "outputs": [
    {
     "name": "stdout",
     "output_type": "stream",
     "text": [
      "Looking for 'eric-wardrobe' in folder 1d1KFAo3jcomqzm05vpY5S_Vmbrh5_lyw...\n"
     ]
    }
   ],
   "source": [
    "items = wg.read_json_data_from_google_sheet()"
   ]
  },
  {
   "cell_type": "code",
   "execution_count": 9,
   "id": "d6042557-16b9-4dd9-864e-b1e5313f3a98",
   "metadata": {},
   "outputs": [
    {
     "data": {
      "text/plain": [
       "79"
      ]
     },
     "execution_count": 9,
     "metadata": {},
     "output_type": "execute_result"
    }
   ],
   "source": [
    "len(items)"
   ]
  },
  {
   "cell_type": "code",
   "execution_count": 12,
   "id": "ef9954e5-b35d-4ee6-a758-44c9033660ef",
   "metadata": {},
   "outputs": [
    {
     "data": {
      "text/plain": [
       "79"
      ]
     },
     "execution_count": 12,
     "metadata": {},
     "output_type": "execute_result"
    }
   ],
   "source": [
    "len(items.keys())"
   ]
  },
  {
   "cell_type": "code",
   "execution_count": 15,
   "id": "a931033c-e100-44a1-81e2-bd988dfbdeb8",
   "metadata": {},
   "outputs": [],
   "source": [
    "item_ids = list(items.keys())"
   ]
  },
  {
   "cell_type": "code",
   "execution_count": 16,
   "id": "07c5d20c-2385-4779-a7a7-a4c9d2f54bf5",
   "metadata": {},
   "outputs": [
    {
     "data": {
      "text/plain": [
       "'img-7151'"
      ]
     },
     "execution_count": 16,
     "metadata": {},
     "output_type": "execute_result"
    }
   ],
   "source": [
    "item_ids[0]"
   ]
  },
  {
   "cell_type": "code",
   "execution_count": 17,
   "id": "41890638-909e-4abc-ad0c-6a18c8b1a139",
   "metadata": {},
   "outputs": [
    {
     "data": {
      "text/plain": [
       "{'id': 'img-7151',\n",
       " 'title': 'IMG 7151',\n",
       " 'category': 'jackets',\n",
       " 'filename': 'IMG_7151.HEIC',\n",
       " 'slug': 'img-7151',\n",
       " 'thumbnail': 'images/thumbs/IMG_7151.jpg',\n",
       " 'image': 'images/full/IMG_7151.jpg',\n",
       " 'notes': 'Testing from Google Sheets',\n",
       " 'created_date': 1755981599,\n",
       " 'tags': ['Shirts']}"
      ]
     },
     "execution_count": 17,
     "metadata": {},
     "output_type": "execute_result"
    }
   ],
   "source": [
    "items[item_ids[0]]"
   ]
  },
  {
   "cell_type": "code",
   "execution_count": 19,
   "id": "e16a917d-6dba-4f43-9ae0-a93a1bd06e87",
   "metadata": {},
   "outputs": [
    {
     "data": {
      "text/plain": [
       "<wardrobe.google_sheets.auth.GoogleSheetsAuth at 0x10f365100>"
      ]
     },
     "execution_count": 19,
     "metadata": {},
     "output_type": "execute_result"
    }
   ],
   "source": [
    "wg.auth"
   ]
  },
  {
   "cell_type": "code",
   "execution_count": 20,
   "id": "1b95e4c7-42e0-4109-8499-d13329263b82",
   "metadata": {},
   "outputs": [],
   "source": [
    "writer = SheetsWriter(wg.auth)"
   ]
  },
  {
   "cell_type": "code",
   "execution_count": 26,
   "id": "597ae5e2-f9ec-48f2-a49f-21a436c79ae7",
   "metadata": {},
   "outputs": [
    {
     "data": {
      "text/plain": [
       "'15qU44l3Jr0E5OyHaCS39Gi3KqD3LgjV8cBMJmimOIPU'"
      ]
     },
     "execution_count": 26,
     "metadata": {},
     "output_type": "execute_result"
    }
   ],
   "source": [
    "writer.write_items_to_sheet(items=list(items.values()), sheet_title=sheet_title, parent_folder_id=parent_folder_id, share_with_email=False)"
   ]
  },
  {
   "cell_type": "code",
   "execution_count": null,
   "id": "3cab5ae3-3239-4d73-bc34-7b12ff6b0c63",
   "metadata": {},
   "outputs": [],
   "source": []
  }
 ],
 "metadata": {
  "kernelspec": {
   "display_name": "Python 3 (ipykernel)",
   "language": "python",
   "name": "python3"
  },
  "language_info": {
   "codemirror_mode": {
    "name": "ipython",
    "version": 3
   },
   "file_extension": ".py",
   "mimetype": "text/x-python",
   "name": "python",
   "nbconvert_exporter": "python",
   "pygments_lexer": "ipython3",
   "version": "3.12.11"
  }
 },
 "nbformat": 4,
 "nbformat_minor": 5
}
