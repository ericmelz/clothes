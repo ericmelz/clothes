{
 "cells": [
  {
   "cell_type": "code",
   "execution_count": null,
   "id": "e9ccc375-c1b3-40b0-940f-05fb56931f48",
   "metadata": {},
   "outputs": [],
   "source": []
  }
 ],
 "metadata": {
  "kernelspec": {
   "display_name": "",
   "name": ""
  },
  "language_info": {
   "name": ""
  }
 },
 "nbformat": 4,
 "nbformat_minor": 5
}
