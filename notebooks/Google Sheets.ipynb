{
 "cells": [
  {
   "cell_type": "code",
   "execution_count": 20,
   "id": "e9ccc375-c1b3-40b0-940f-05fb56931f48",
   "metadata": {},
   "outputs": [],
   "source": [
    "import json\n",
    "import os\n",
    "from datetime import datetime, timezone\n",
    "\n",
    "from google.oauth2.credentials import Credentials\n",
    "from google_auth_oauthlib.flow import InstalledAppFlow\n",
    "from google.auth.transport.requests import Request\n",
    "from googleapiclient.discovery import build\n",
    "\n",
    "DATA_PATH = \"../claude/source_data/erics-clothes/wardrobe_data.json\"\n",
    "SHEET_TITLE = \"Wardrobe Inventory\"\n",
    "SHARE_WITH_EMAIL = \"eric@emelz.com\"\n",
    "CREDS_PATH = \"../credentials.json\"  # Downloaded from Google Cloud Console\n",
    "TOKEN_PATH = \"../token.json\"        # Cached user token after first auth\n",
    "\n",
    "SCOPES = [\n",
    "    \"https://www.googleapis.com/auth/spreadsheets\",\n",
    "    \"https://www.googleapis.com/auth/drive.file\",\n",
    "    \"https://www.googleapis.com/auth/drive\"    \n",
    "]"
   ]
  },
  {
   "cell_type": "code",
   "execution_count": 13,
   "id": "ffc90464-d472-4206-a509-c6ec1a6a0947",
   "metadata": {},
   "outputs": [],
   "source": [
    "with open(DATA_PATH, \"r\") as f:\n",
    "    data = json.load(f)"
   ]
  },
  {
   "cell_type": "code",
   "execution_count": 16,
   "id": "72b1f8aa-0d06-49ac-aa15-4afa528322db",
   "metadata": {},
   "outputs": [],
   "source": [
    "flow = InstalledAppFlow.from_client_secrets_file(CREDS_PATH, SCOPES)"
   ]
  },
  {
   "cell_type": "code",
   "execution_count": 17,
   "id": "ba9676d4-bc25-42f8-9323-aee7ffc70c45",
   "metadata": {},
   "outputs": [
    {
     "name": "stdout",
     "output_type": "stream",
     "text": [
      "Please visit this URL to authorize this application: https://accounts.google.com/o/oauth2/auth?response_type=code&client_id=583771278292-btvhp3f3m31e6bkctn8cprgi6ruddps7.apps.googleusercontent.com&redirect_uri=http%3A%2F%2Flocalhost%3A60306%2F&scope=https%3A%2F%2Fwww.googleapis.com%2Fauth%2Fspreadsheets+https%3A%2F%2Fwww.googleapis.com%2Fauth%2Fdrive.file+https%3A%2F%2Fwww.googleapis.com%2Fauth%2Fdrive&state=5jjARW87IitQQBquNNnaiOTGYqb3e5&access_type=offline\n"
     ]
    }
   ],
   "source": [
    "creds = flow.run_local_server(port=0)"
   ]
  },
  {
   "cell_type": "code",
   "execution_count": 21,
   "id": "605362af-ff1e-4b3f-84ab-b18c9e591be2",
   "metadata": {},
   "outputs": [],
   "source": [
    "with open(TOKEN_PATH, \"w\") as f:\n",
    "    f.write(creds.to_json())"
   ]
  },
  {
   "cell_type": "code",
   "execution_count": 22,
   "id": "12ccbba9-d42d-4f1b-b67e-7e0c35bd0f35",
   "metadata": {},
   "outputs": [],
   "source": [
    "sheets = build(\"sheets\", \"v4\", credentials=creds)"
   ]
  },
  {
   "cell_type": "code",
   "execution_count": 23,
   "id": "01b837d5-1605-4414-acc4-832f087e1483",
   "metadata": {},
   "outputs": [],
   "source": [
    "drive = build(\"drive\", \"v3\", credentials=creds)"
   ]
  },
  {
   "cell_type": "code",
   "execution_count": 24,
   "id": "423dace1-1e8b-4a9a-8838-561619356093",
   "metadata": {},
   "outputs": [],
   "source": [
    "def load_items(json_path):\n",
    "    with open(json_path, \"r\") as f:\n",
    "        data = json.load(f)\n",
    "\n",
    "    items = data.get(\"items\", [])\n",
    "    rows = []\n",
    "\n",
    "    # Header:\n",
    "    header = [\n",
    "        \"ID\",\n",
    "        \"Title\",\n",
    "        \"Category\",\n",
    "        \"Filename\",\n",
    "        \"Slug\",\n",
    "        \"Thumbnail\",\n",
    "        \"Image\",\n",
    "        \"Tags\",\n",
    "        \"Notes\",\n",
    "        \"Created (UTC ISO8601)\"\n",
    "    ]\n",
    "\n",
    "    for it in items:\n",
    "        created_ts = it.get(\"created_date\")\n",
    "        if isinstance(created_ts, (int, float)):\n",
    "            # Some values may include fractional seconds\n",
    "            created_dt = datetime.fromtimestamp(created_ts, tz=timezone.utc)\n",
    "            created_iso = created_dt.isoformat().replace(\"+00:00\", \"Z\")\n",
    "        else:\n",
    "            created_iso = \"\"\n",
    "\n",
    "        tags = it.get(\"tags\", [])\n",
    "        if isinstance(tags, list):\n",
    "            tags_text = \", \".join(tags)\n",
    "        else:\n",
    "            tags_text = str(tags) if tags is not None else \"\"\n",
    "\n",
    "        rows.append([\n",
    "            it.get(\"id\", \"\"),\n",
    "            it.get(\"title\", \"\"),\n",
    "            it.get(\"category\", \"\"),\n",
    "            it.get(\"filename\", \"\"),\n",
    "            it.get(\"slug\", \"\"),\n",
    "            it.get(\"thumbnail\", \"\"),\n",
    "            it.get(\"image\", \"\"),\n",
    "            tags_text,\n",
    "            it.get(\"notes\", \"\"),\n",
    "            created_iso\n",
    "        ])\n",
    "    return header, rows"
   ]
  },
  {
   "cell_type": "code",
   "execution_count": 26,
   "id": "4705ba47-66ee-4730-9245-34f9d9c5fe76",
   "metadata": {},
   "outputs": [],
   "source": [
    "header, rows = load_items(DATA_PATH)"
   ]
  },
  {
   "cell_type": "code",
   "execution_count": 29,
   "id": "6f55d5bb-1a67-4eae-bb79-af68106a0a96",
   "metadata": {},
   "outputs": [],
   "source": [
    "spreadsheet_body = {\"properties\": {\"title\": SHEET_TITLE}}"
   ]
  },
  {
   "cell_type": "code",
   "execution_count": 30,
   "id": "3f3bacf2-3510-44d8-b924-c8ed99f8fdd5",
   "metadata": {},
   "outputs": [],
   "source": [
    "created = sheets.spreadsheets().create(body=spreadsheet_body, fields=\"spreadsheetId\").execute()"
   ]
  },
  {
   "cell_type": "code",
   "execution_count": 31,
   "id": "7525b0e1-1233-4df5-afe3-a1c98f8e72e6",
   "metadata": {},
   "outputs": [
    {
     "data": {
      "text/plain": [
       "'1AFA5O-9eIebN4a12zKZWXInqsas49FxKiBTjAigRy4Q'"
      ]
     },
     "execution_count": 31,
     "metadata": {},
     "output_type": "execute_result"
    }
   ],
   "source": [
    "spreadsheet_id = created['spreadsheetId']\n",
    "spreadsheet_id"
   ]
  },
  {
   "cell_type": "code",
   "execution_count": 32,
   "id": "42bc5aae-e2dc-4067-9ff9-7389a3cf702a",
   "metadata": {},
   "outputs": [],
   "source": [
    "values = [header] + rows"
   ]
  },
  {
   "cell_type": "code",
   "execution_count": 33,
   "id": "05efc452-ee4a-42ec-a9ad-a0ec23d38e63",
   "metadata": {},
   "outputs": [
    {
     "data": {
      "text/plain": [
       "{'spreadsheetId': '1AFA5O-9eIebN4a12zKZWXInqsas49FxKiBTjAigRy4Q',\n",
       " 'updatedRange': 'Sheet1!A1:J80',\n",
       " 'updatedRows': 80,\n",
       " 'updatedColumns': 10,\n",
       " 'updatedCells': 800}"
      ]
     },
     "execution_count": 33,
     "metadata": {},
     "output_type": "execute_result"
    }
   ],
   "source": [
    "sheets.spreadsheets().values().update(\n",
    "    spreadsheetId=spreadsheet_id,\n",
    "    range=\"Sheet1!A1\",\n",
    "    valueInputOption=\"RAW\",\n",
    "    body={\"values\": values}\n",
    ").execute()"
   ]
  },
  {
   "cell_type": "code",
   "execution_count": 34,
   "id": "6e43b711-27c6-43bf-87f3-84c7dd7ea33f",
   "metadata": {},
   "outputs": [],
   "source": [
    "requests = [\n",
    "    {\n",
    "        \"updateSheetProperties\": {\n",
    "            \"properties\": {\"sheetId\": 0, \"gridProperties\": {\"frozenRowCount\": 1}},\n",
    "            \"fields\": \"gridProperties.frozenRowCount\"\n",
    "        }\n",
    "    },\n",
    "    {\n",
    "        \"autoResizeDimensions\": {\n",
    "            \"dimensions\": {\"sheetId\": 0, \"dimension\": \"COLUMNS\", \"startIndex\": 0, \"endIndex\": len(header)}\n",
    "        }\n",
    "    }\n",
    "]"
   ]
  },
  {
   "cell_type": "code",
   "execution_count": 35,
   "id": "53af470e-e957-45cc-ba12-5c67400f8b40",
   "metadata": {},
   "outputs": [
    {
     "data": {
      "text/plain": [
       "{'spreadsheetId': '1AFA5O-9eIebN4a12zKZWXInqsas49FxKiBTjAigRy4Q',\n",
       " 'replies': [{}, {}]}"
      ]
     },
     "execution_count": 35,
     "metadata": {},
     "output_type": "execute_result"
    }
   ],
   "source": [
    "sheets.spreadsheets().batchUpdate(spreadsheetId=spreadsheet_id, body={\"requests\": requests}).execute()"
   ]
  },
  {
   "cell_type": "code",
   "execution_count": 37,
   "id": "90bcac44-63d5-4bbd-b308-40467b86a0a9",
   "metadata": {},
   "outputs": [
    {
     "data": {
      "text/plain": [
       "{'kind': 'drive#permission',\n",
       " 'id': '02365986991181812137',\n",
       " 'type': 'user',\n",
       " 'role': 'owner'}"
      ]
     },
     "execution_count": 37,
     "metadata": {},
     "output_type": "execute_result"
    }
   ],
   "source": [
    "drive.permissions().create(\n",
    "    fileId=spreadsheet_id, \n",
    "    body={\"type\": \"user\", \"role\": \"writer\", \"emailAddress\": SHARE_WITH_EMAIL}, \n",
    "    sendNotificationEmail=True\n",
    ").execute()"
   ]
  },
  {
   "cell_type": "code",
   "execution_count": 38,
   "id": "a09c8adf-2f8b-4beb-905b-5e0dc13b8615",
   "metadata": {},
   "outputs": [
    {
     "data": {
      "text/plain": [
       "79"
      ]
     },
     "execution_count": 38,
     "metadata": {},
     "output_type": "execute_result"
    }
   ],
   "source": [
    "len(data['items'])"
   ]
  },
  {
   "cell_type": "code",
   "execution_count": 39,
   "id": "30ca121f-515a-4406-b55a-9ee7553db7a9",
   "metadata": {},
   "outputs": [],
   "source": [
    "with open(\"../claude/output/erics-clothes/wardrobe_data.json\", \"r\") as f:\n",
    "    data1 = json.load(f)"
   ]
  },
  {
   "cell_type": "code",
   "execution_count": 40,
   "id": "84a2fd30-1de5-4e23-8883-ebf6f31bc1ec",
   "metadata": {},
   "outputs": [],
   "source": [
    "with open(\"../claude/output/erics-clothes/wardrobe_data2.json\", \"r\") as f:\n",
    "    data2 = json.load(f)"
   ]
  },
  {
   "cell_type": "code",
   "execution_count": 41,
   "id": "5da73d56-64a5-427c-b887-b69fd40cec7f",
   "metadata": {},
   "outputs": [
    {
     "data": {
      "text/plain": [
       "400"
      ]
     },
     "execution_count": 41,
     "metadata": {},
     "output_type": "execute_result"
    }
   ],
   "source": [
    "len(data1['items'])"
   ]
  },
  {
   "cell_type": "code",
   "execution_count": 42,
   "id": "3343e8ca-1a5f-4ef4-9abc-f6338d252748",
   "metadata": {},
   "outputs": [
    {
     "data": {
      "text/plain": [
       "79"
      ]
     },
     "execution_count": 42,
     "metadata": {},
     "output_type": "execute_result"
    }
   ],
   "source": [
    "len(data2['items'])"
   ]
  },
  {
   "cell_type": "code",
   "execution_count": null,
   "id": "6a9a4bf4-930d-4d29-830a-b3905c6f1a1a",
   "metadata": {},
   "outputs": [],
   "source": []
  }
 ],
 "metadata": {
  "kernelspec": {
   "display_name": "Python 3 (ipykernel)",
   "language": "python",
   "name": "python3"
  },
  "language_info": {
   "codemirror_mode": {
    "name": "ipython",
    "version": 3
   },
   "file_extension": ".py",
   "mimetype": "text/x-python",
   "name": "python",
   "nbconvert_exporter": "python",
   "pygments_lexer": "ipython3",
   "version": "3.12.11"
  }
 },
 "nbformat": 4,
 "nbformat_minor": 5
}
