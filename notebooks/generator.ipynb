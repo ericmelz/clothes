{
 "cells": [
  {
   "cell_type": "code",
   "execution_count": 4,
   "id": "c36221c3-a2bd-4dcf-8c65-e61604ba05a9",
   "metadata": {},
   "outputs": [],
   "source": [
    "import sys\n",
    "import os\n",
    "from pathlib import Path\n",
    "\n",
    "sys.path.append(os.path.abspath(os.path.join(os.getcwd(), '..')))\n",
    "\n",
    "from claude.generate_site import WardrobeGenerator"
   ]
  },
  {
   "cell_type": "code",
   "execution_count": 13,
   "id": "e8f3e280-8918-4e49-93b9-0d43a4f42f60",
   "metadata": {},
   "outputs": [],
   "source": [
    "SOURCE_DIR = f'{os.getenv(\"HOME\")}/Data/tmp/source_data/photos'\n",
    "OUTPUT_DIR = f'{os.getenv(\"HOME\")}/Data/tmp/output'"
   ]
  },
  {
   "cell_type": "code",
   "execution_count": 14,
   "id": "f03cedfd-384d-4ae1-a879-fd8931448697",
   "metadata": {},
   "outputs": [],
   "source": [
    "wg = WardrobeGenerator(SOURCE_DIR, OUTPUT_DIR)"
   ]
  },
  {
   "cell_type": "code",
   "execution_count": 15,
   "id": "987b02a3-b2f7-4e90-be47-5a0b069ff361",
   "metadata": {},
   "outputs": [
    {
     "data": {
      "text/plain": [
       "PosixPath('/Users/ericmelz/Data/tmp/output/images/thumbs')"
      ]
     },
     "execution_count": 15,
     "metadata": {},
     "output_type": "execute_result"
    }
   ],
   "source": [
    "wg.thumbs_dir"
   ]
  },
  {
   "cell_type": "code",
   "execution_count": 16,
   "id": "a3fc1bd1-6bba-44e1-b6d8-474267000921",
   "metadata": {},
   "outputs": [
    {
     "name": "stdout",
     "output_type": "stream",
     "text": [
      "Starting wardrobe site generation...\n",
      "\n",
      "Processing category: Shirts\n",
      "Processing IMG_7151.HEIC\n",
      "Processing IMG_7110.HEIC\n",
      "Processing IMG_7147.HEIC\n",
      "Processing IMG_7096.HEIC\n",
      "Processing IMG_7130.HEIC\n",
      "Processing IMG_7167.HEIC\n",
      "Processing IMG_7171.HEIC\n",
      "Processing IMG_7126.HEIC\n",
      "Processing IMG_7127.HEIC\n",
      "Processing IMG_7170.HEIC\n",
      "Processing IMG_7166.HEIC\n",
      "Processing IMG_7131.HEIC\n",
      "Processing IMG_7097.HEIC\n",
      "Processing IMG_7146.HEIC\n",
      "Processing IMG_7111.HEIC\n",
      "Processing IMG_7107.HEIC\n",
      "Processing IMG_7150.HEIC\n",
      "Processing IMG_7136.HEIC\n",
      "Processing IMG_7161.HEIC\n",
      "Processing IMG_7065.HEIC\n",
      "Processing IMG_7120.HEIC\n",
      "Processing IMG_7157.HEIC\n",
      "Processing IMG_7100.HEIC\n",
      "Processing IMG_7116.HEIC\n",
      "Processing IMG_7141.HEIC\n",
      "Processing IMG_7068.HEIC\n",
      "Processing IMG_7140.HEIC\n",
      "Processing IMG_7117.HEIC\n",
      "Processing IMG_7101.HEIC\n",
      "Processing IMG_7156.HEIC\n",
      "Processing IMG_7121.HEIC\n",
      "Processing IMG_7160.HEIC\n",
      "Processing IMG_7137.HEIC\n",
      "Processing IMG_7122.HEIC\n",
      "Processing IMG_7067.HEIC\n",
      "Processing IMG_7163.HEIC\n",
      "Processing IMG_7134.HEIC\n",
      "Processing IMG_7118.HEIC\n",
      "Processing IMG_7159.HEIC\n",
      "Processing IMG_7138.HEIC\n",
      "Processing IMG_7092.HEIC\n",
      "Processing IMG_7143.HEIC\n",
      "Processing IMG_7114.HEIC\n",
      "Processing IMG_7102.HEIC\n",
      "Processing IMG_7155.HEIC\n",
      "Processing IMG_7154.HEIC\n",
      "Processing IMG_7103.HEIC\n",
      "Processing IMG_7115.HEIC\n",
      "Processing IMG_7142.HEIC\n",
      "Processing IMG_7139.HEIC\n",
      "Processing IMG_7158.HEIC\n",
      "Processing IMG_7119.HEIC\n",
      "Processing IMG_7135.HEIC\n",
      "Processing IMG_7162.HEIC\n",
      "Processing IMG_7123.HEIC\n",
      "Processing IMG_7066.HEIC\n",
      "Processing IMG_7128.HEIC\n",
      "Processing IMG_7169.HEIC\n",
      "Processing IMG_7145.HEIC\n",
      "Processing IMG_7112.HEIC\n",
      "Processing IMG_7104.HEIC\n",
      "Processing IMG_7153.HEIC\n",
      "Processing IMG_7124.HEIC\n",
      "Processing IMG_7165.HEIC\n",
      "Processing IMG_7098.HEIC\n",
      "Processing IMG_7149.HEIC\n",
      "Processing IMG_7109.HEIC\n",
      "Processing IMG_7148.HEIC\n",
      "Processing IMG_7133.HEIC\n",
      "Processing IMG_7164.HEIC\n",
      "Processing IMG_7172.HEIC\n",
      "Processing IMG_7125.HEIC\n",
      "Processing IMG_7152.HEIC\n",
      "Processing IMG_7113.HEIC\n",
      "Processing IMG_7144.HEIC\n",
      "Processing IMG_7095.HEIC\n",
      "Processing IMG_7168.HEIC\n",
      "Processing IMG_7129.HEIC\n",
      "\n",
      "Processing category: Pants\n",
      "Processing IMG_7063.HEIC\n",
      "\n",
      "Generated /Users/ericmelz/Data/tmp/output/wardrobe_data.json with 79 items\n"
     ]
    },
    {
     "ename": "FileNotFoundError",
     "evalue": "[Errno 2] No such file or directory: '/Users/ericmelz/Data/tmp/output/website/wardrobe_data.json'",
     "output_type": "error",
     "traceback": [
      "\u001b[31m---------------------------------------------------------------------------\u001b[39m",
      "\u001b[31mFileNotFoundError\u001b[39m                         Traceback (most recent call last)",
      "\u001b[36mCell\u001b[39m\u001b[36m \u001b[39m\u001b[32mIn[16]\u001b[39m\u001b[32m, line 1\u001b[39m\n\u001b[32m----> \u001b[39m\u001b[32m1\u001b[39m \u001b[43mwg\u001b[49m\u001b[43m.\u001b[49m\u001b[43mgenerate\u001b[49m\u001b[43m(\u001b[49m\u001b[43m)\u001b[49m\n",
      "\u001b[36mFile \u001b[39m\u001b[32m~/Data/code/clothes/claude/generate_site.py:191\u001b[39m, in \u001b[36mWardrobeGenerator.generate\u001b[39m\u001b[34m(self)\u001b[39m\n\u001b[32m    189\u001b[39m \u001b[38;5;28mself\u001b[39m.scan_source_photos()\n\u001b[32m    190\u001b[39m \u001b[38;5;28mself\u001b[39m.generate_json_data()\n\u001b[32m--> \u001b[39m\u001b[32m191\u001b[39m \u001b[38;5;28;43mself\u001b[39;49m\u001b[43m.\u001b[49m\u001b[43mgenerate_static_site\u001b[49m\u001b[43m(\u001b[49m\u001b[43m)\u001b[49m\n\u001b[32m    192\u001b[39m \u001b[38;5;28mprint\u001b[39m(\u001b[33m\"\u001b[39m\u001b[33mGeneration complete!\u001b[39m\u001b[33m\"\u001b[39m)\n",
      "\u001b[36mFile \u001b[39m\u001b[32m~/Data/code/clothes/claude/generate_site.py:167\u001b[39m, in \u001b[36mWardrobeGenerator.generate_static_site\u001b[39m\u001b[34m(self)\u001b[39m\n\u001b[32m    165\u001b[39m json_dest = website_dir / \u001b[33m\"\u001b[39m\u001b[33mwardrobe_data.json\u001b[39m\u001b[33m\"\u001b[39m\n\u001b[32m    166\u001b[39m \u001b[38;5;28;01mif\u001b[39;00m json_source.exists():\n\u001b[32m--> \u001b[39m\u001b[32m167\u001b[39m     \u001b[43mshutil\u001b[49m\u001b[43m.\u001b[49m\u001b[43mcopy2\u001b[49m\u001b[43m(\u001b[49m\u001b[43mjson_source\u001b[49m\u001b[43m,\u001b[49m\u001b[43m \u001b[49m\u001b[43mjson_dest\u001b[49m\u001b[43m)\u001b[49m\n\u001b[32m    168\u001b[39m     \u001b[38;5;28mprint\u001b[39m(\u001b[33mf\u001b[39m\u001b[33m\"\u001b[39m\u001b[33mCopied JSON data to \u001b[39m\u001b[38;5;132;01m{\u001b[39;00mjson_dest\u001b[38;5;132;01m}\u001b[39;00m\u001b[33m\"\u001b[39m)\n\u001b[32m    170\u001b[39m \u001b[38;5;66;03m# Copy images to website directory\u001b[39;00m\n",
      "\u001b[36mFile \u001b[39m\u001b[32m~/.local/share/uv/python/cpython-3.12.11-macos-aarch64-none/lib/python3.12/shutil.py:475\u001b[39m, in \u001b[36mcopy2\u001b[39m\u001b[34m(src, dst, follow_symlinks)\u001b[39m\n\u001b[32m    472\u001b[39m         \u001b[38;5;28;01melse\u001b[39;00m:\n\u001b[32m    473\u001b[39m             \u001b[38;5;28;01mraise\u001b[39;00m\n\u001b[32m--> \u001b[39m\u001b[32m475\u001b[39m \u001b[43mcopyfile\u001b[49m\u001b[43m(\u001b[49m\u001b[43msrc\u001b[49m\u001b[43m,\u001b[49m\u001b[43m \u001b[49m\u001b[43mdst\u001b[49m\u001b[43m,\u001b[49m\u001b[43m \u001b[49m\u001b[43mfollow_symlinks\u001b[49m\u001b[43m=\u001b[49m\u001b[43mfollow_symlinks\u001b[49m\u001b[43m)\u001b[49m\n\u001b[32m    476\u001b[39m copystat(src, dst, follow_symlinks=follow_symlinks)\n\u001b[32m    477\u001b[39m \u001b[38;5;28;01mreturn\u001b[39;00m dst\n",
      "\u001b[36mFile \u001b[39m\u001b[32m~/.local/share/uv/python/cpython-3.12.11-macos-aarch64-none/lib/python3.12/shutil.py:262\u001b[39m, in \u001b[36mcopyfile\u001b[39m\u001b[34m(src, dst, follow_symlinks)\u001b[39m\n\u001b[32m    260\u001b[39m \u001b[38;5;28;01mwith\u001b[39;00m \u001b[38;5;28mopen\u001b[39m(src, \u001b[33m'\u001b[39m\u001b[33mrb\u001b[39m\u001b[33m'\u001b[39m) \u001b[38;5;28;01mas\u001b[39;00m fsrc:\n\u001b[32m    261\u001b[39m     \u001b[38;5;28;01mtry\u001b[39;00m:\n\u001b[32m--> \u001b[39m\u001b[32m262\u001b[39m         \u001b[38;5;28;01mwith\u001b[39;00m \u001b[38;5;28;43mopen\u001b[39;49m\u001b[43m(\u001b[49m\u001b[43mdst\u001b[49m\u001b[43m,\u001b[49m\u001b[43m \u001b[49m\u001b[33;43m'\u001b[39;49m\u001b[33;43mwb\u001b[39;49m\u001b[33;43m'\u001b[39;49m\u001b[43m)\u001b[49m \u001b[38;5;28;01mas\u001b[39;00m fdst:\n\u001b[32m    263\u001b[39m             \u001b[38;5;66;03m# macOS\u001b[39;00m\n\u001b[32m    264\u001b[39m             \u001b[38;5;28;01mif\u001b[39;00m _HAS_FCOPYFILE:\n\u001b[32m    265\u001b[39m                 \u001b[38;5;28;01mtry\u001b[39;00m:\n",
      "\u001b[31mFileNotFoundError\u001b[39m: [Errno 2] No such file or directory: '/Users/ericmelz/Data/tmp/output/website/wardrobe_data.json'"
     ]
    }
   ],
   "source": [
    "wg.generate()"
   ]
  },
  {
   "cell_type": "code",
   "execution_count": 17,
   "id": "2bce3002-2808-446c-9c6f-acb8282ecd97",
   "metadata": {},
   "outputs": [],
   "source": [
    "import json"
   ]
  },
  {
   "cell_type": "code",
   "execution_count": 18,
   "id": "4075549b-78f6-44b0-9264-3cef08729944",
   "metadata": {},
   "outputs": [],
   "source": [
    "SOURCE_JSON = f'{os.getenv(\"HOME\")}/Data/tmp/source_data/wardrobe_data.json'"
   ]
  },
  {
   "cell_type": "code",
   "execution_count": 19,
   "id": "7116bbd9-43c9-48c7-85ec-6ad23fc23e00",
   "metadata": {},
   "outputs": [],
   "source": [
    "with open(SOURCE_JSON) as f:\n",
    "    data = json.load(f)"
   ]
  },
  {
   "cell_type": "code",
   "execution_count": 23,
   "id": "9f4cd416-18fb-4ec1-9469-7b5cd7bfdc6a",
   "metadata": {},
   "outputs": [
    {
     "data": {
      "text/plain": [
       "79"
      ]
     },
     "execution_count": 23,
     "metadata": {},
     "output_type": "execute_result"
    }
   ],
   "source": [
    "len(data['items'])"
   ]
  },
  {
   "cell_type": "code",
   "execution_count": 24,
   "id": "2b88e2fc-95e8-4b09-9f5c-890c7b75e41a",
   "metadata": {},
   "outputs": [],
   "source": [
    "item = data['items'][0]"
   ]
  },
  {
   "cell_type": "code",
   "execution_count": 25,
   "id": "52d64de7-40c3-4e60-9796-e33629f6e37a",
   "metadata": {},
   "outputs": [
    {
     "data": {
      "text/plain": [
       "{'id': 'img-7151',\n",
       " 'filename': 'IMG_7151.HEIC',\n",
       " 'slug': 'img-7151',\n",
       " 'title': 'IMG 7151',\n",
       " 'category': 'shirts',\n",
       " 'thumbnail': 'images/thumbs/IMG_7151.jpg',\n",
       " 'image': 'images/full/IMG_7151.jpg',\n",
       " 'tags': ['Shirts'],\n",
       " 'notes': '',\n",
       " 'created_date': 1755981599.0}"
      ]
     },
     "execution_count": 25,
     "metadata": {},
     "output_type": "execute_result"
    }
   ],
   "source": [
    "item"
   ]
  },
  {
   "cell_type": "code",
   "execution_count": 27,
   "id": "e7f286f6-a446-4e17-a1f6-e8ddce9148e7",
   "metadata": {},
   "outputs": [],
   "source": [
    "id_to_items = {}\n",
    "for item in data['items']:\n",
    "    id_to_items[item['id']] = item"
   ]
  },
  {
   "cell_type": "code",
   "execution_count": 28,
   "id": "6924dc3c-762b-4c95-9f91-e8b049c3200d",
   "metadata": {},
   "outputs": [
    {
     "data": {
      "text/plain": [
       "79"
      ]
     },
     "execution_count": 28,
     "metadata": {},
     "output_type": "execute_result"
    }
   ],
   "source": [
    "len(id_to_items)"
   ]
  },
  {
   "cell_type": "code",
   "execution_count": 29,
   "id": "65d03569-13ec-44b0-8668-4dc5dd9646e9",
   "metadata": {},
   "outputs": [
    {
     "data": {
      "text/plain": [
       "{'id': 'img-7151',\n",
       " 'filename': 'IMG_7151.HEIC',\n",
       " 'slug': 'img-7151',\n",
       " 'title': 'IMG 7151',\n",
       " 'category': 'shirts',\n",
       " 'thumbnail': 'images/thumbs/IMG_7151.jpg',\n",
       " 'image': 'images/full/IMG_7151.jpg',\n",
       " 'tags': ['Shirts'],\n",
       " 'notes': '',\n",
       " 'created_date': 1755981599.0}"
      ]
     },
     "execution_count": 29,
     "metadata": {},
     "output_type": "execute_result"
    }
   ],
   "source": [
    "id_to_items['img-7151']"
   ]
  },
  {
   "cell_type": "code",
   "execution_count": null,
   "id": "9ec6e3c5-0fdc-47f2-855a-e5ae9a2c2448",
   "metadata": {},
   "outputs": [],
   "source": []
  }
 ],
 "metadata": {
  "kernelspec": {
   "display_name": "Python 3 (ipykernel)",
   "language": "python",
   "name": "python3"
  },
  "language_info": {
   "codemirror_mode": {
    "name": "ipython",
    "version": 3
   },
   "file_extension": ".py",
   "mimetype": "text/x-python",
   "name": "python",
   "nbconvert_exporter": "python",
   "pygments_lexer": "ipython3",
   "version": "3.12.11"
  }
 },
 "nbformat": 4,
 "nbformat_minor": 5
}
