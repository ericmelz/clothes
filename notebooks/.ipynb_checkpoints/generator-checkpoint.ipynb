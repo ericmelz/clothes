{
 "cells": [
  {
   "cell_type": "code",
   "execution_count": 1,
   "id": "c36221c3-a2bd-4dcf-8c65-e61604ba05a9",
   "metadata": {},
   "outputs": [
    {
     "name": "stdout",
     "output_type": "stream",
     "text": [
      "Loading claude module!!\n"
     ]
    }
   ],
   "source": [
    "import sys\n",
    "import os\n",
    "from pathlib import Path\n",
    "\n",
    "sys.path.append(os.path.abspath(os.path.join(os.getcwd(), '..')))\n",
    "\n",
    "from claude.generate_site import WardrobeGenerator"
   ]
  },
  {
   "cell_type": "code",
   "execution_count": 2,
   "id": "e8f3e280-8918-4e49-93b9-0d43a4f42f60",
   "metadata": {},
   "outputs": [],
   "source": [
    "SOURCE_DIR = f'{os.getenv(\"HOME\")}/Data/tmp/source_data'\n",
    "OUTPUT_DIR = f'{os.getenv(\"HOME\")}/Data/tmp/output'"
   ]
  },
  {
   "cell_type": "code",
   "execution_count": 3,
   "id": "f03cedfd-384d-4ae1-a879-fd8931448697",
   "metadata": {},
   "outputs": [],
   "source": [
    "wg = WardrobeGenerator(SOURCE_DIR, OUTPUT_DIR)"
   ]
  },
  {
   "cell_type": "code",
   "execution_count": 4,
   "id": "987b02a3-b2f7-4e90-be47-5a0b069ff361",
   "metadata": {},
   "outputs": [
    {
     "data": {
      "text/plain": [
       "PosixPath('/Users/ericmelz/Data/tmp/source_data/photos')"
      ]
     },
     "execution_count": 4,
     "metadata": {},
     "output_type": "execute_result"
    }
   ],
   "source": [
    "wg.photos_dir"
   ]
  },
  {
   "cell_type": "code",
   "execution_count": 5,
   "id": "a3fc1bd1-6bba-44e1-b6d8-474267000921",
   "metadata": {},
   "outputs": [
    {
     "name": "stdout",
     "output_type": "stream",
     "text": [
      "Starting wardrobe site generation...\n",
      "\n",
      "Processing category: Shirts\n",
      "Processing IMG_7151.HEIC\n",
      "Processing IMG_7110.HEIC\n",
      "Processing IMG_7147.HEIC\n",
      "Processing IMG_7096.HEIC\n",
      "Processing IMG_7130.HEIC\n",
      "Processing IMG_7167.HEIC\n",
      "Processing IMG_7171.HEIC\n",
      "Processing IMG_7126.HEIC\n",
      "Processing IMG_7127.HEIC\n",
      "Processing IMG_7170.HEIC\n",
      "Processing IMG_7166.HEIC\n",
      "Processing IMG_7131.HEIC\n",
      "Processing IMG_7097.HEIC\n",
      "Processing IMG_7146.HEIC\n",
      "Processing IMG_7111.HEIC\n",
      "Processing IMG_7107.HEIC\n",
      "Processing IMG_7150.HEIC\n",
      "Processing IMG_7136.HEIC\n",
      "Processing IMG_7161.HEIC\n",
      "Processing IMG_7065.HEIC\n",
      "Processing IMG_7120.HEIC\n",
      "Processing IMG_7157.HEIC\n",
      "Processing IMG_7100.HEIC\n",
      "Processing IMG_7116.HEIC\n",
      "Processing IMG_7141.HEIC\n",
      "Processing IMG_7068.HEIC\n",
      "Processing IMG_7140.HEIC\n",
      "Processing IMG_7117.HEIC\n",
      "Processing IMG_7101.HEIC\n",
      "Processing IMG_7156.HEIC\n",
      "Processing IMG_7121.HEIC\n",
      "Processing IMG_7160.HEIC\n",
      "Processing IMG_7137.HEIC\n",
      "Processing IMG_7122.HEIC\n",
      "Processing IMG_7067.HEIC\n",
      "Processing IMG_7163.HEIC\n",
      "Processing IMG_7134.HEIC\n",
      "Processing IMG_7118.HEIC\n",
      "Processing IMG_7159.HEIC\n",
      "Processing IMG_7138.HEIC\n",
      "Processing IMG_7092.HEIC\n",
      "Processing IMG_7143.HEIC\n",
      "Processing IMG_7114.HEIC\n",
      "Processing IMG_7102.HEIC\n",
      "Processing IMG_7155.HEIC\n",
      "Processing IMG_7154.HEIC\n",
      "Processing IMG_7103.HEIC\n",
      "Processing IMG_7115.HEIC\n",
      "Processing IMG_7142.HEIC\n",
      "Processing IMG_7139.HEIC\n",
      "Processing IMG_7158.HEIC\n",
      "Processing IMG_7119.HEIC\n",
      "Processing IMG_7135.HEIC\n",
      "Processing IMG_7162.HEIC\n",
      "Processing IMG_7123.HEIC\n",
      "Processing IMG_7066.HEIC\n",
      "Processing IMG_7128.HEIC\n",
      "Processing IMG_7169.HEIC\n",
      "Processing IMG_7145.HEIC\n",
      "Processing IMG_7112.HEIC\n",
      "Processing IMG_7104.HEIC\n",
      "Processing IMG_7153.HEIC\n",
      "Processing IMG_7124.HEIC\n",
      "Processing IMG_7165.HEIC\n",
      "Processing IMG_7098.HEIC\n",
      "Processing IMG_7149.HEIC\n",
      "Processing IMG_7109.HEIC\n",
      "Processing IMG_7148.HEIC\n",
      "Processing IMG_7133.HEIC\n",
      "Processing IMG_7164.HEIC\n",
      "Processing IMG_7172.HEIC\n",
      "Processing IMG_7125.HEIC\n",
      "Processing IMG_7152.HEIC\n",
      "Processing IMG_7113.HEIC\n",
      "Processing IMG_7144.HEIC\n",
      "Processing IMG_7095.HEIC\n",
      "Processing IMG_7168.HEIC\n",
      "Processing IMG_7129.HEIC\n",
      "\n",
      "Processing category: Pants\n",
      "Processing IMG_7063.HEIC\n",
      "\n",
      "Generated /Users/ericmelz/Data/tmp/output/wardrobe_data.json with 79 items\n",
      "Copied JSON data to /Users/ericmelz/Data/tmp/output/website/wardrobe_data.json\n",
      "Copied images to /Users/ericmelz/Data/tmp/output/website/images\n",
      "Created favicon at /Users/ericmelz/Data/tmp/output/website/favicon.svg\n",
      "Static website structure created!\n",
      "Website ready for deployment at: /Users/ericmelz/Data/tmp/output/website\n",
      "You can now serve this directory with nginx or any web server.\n",
      "Generation complete!\n"
     ]
    }
   ],
   "source": [
    "wg.generate()"
   ]
  },
  {
   "cell_type": "code",
   "execution_count": null,
   "id": "9ec6e3c5-0fdc-47f2-855a-e5ae9a2c2448",
   "metadata": {},
   "outputs": [],
   "source": []
  }
 ],
 "metadata": {
  "kernelspec": {
   "display_name": "Python 3 (ipykernel)",
   "language": "python",
   "name": "python3"
  },
  "language_info": {
   "codemirror_mode": {
    "name": "ipython",
    "version": 3
   },
   "file_extension": ".py",
   "mimetype": "text/x-python",
   "name": "python",
   "nbconvert_exporter": "python",
   "pygments_lexer": "ipython3",
   "version": "3.12.11"
  }
 },
 "nbformat": 4,
 "nbformat_minor": 5
}
