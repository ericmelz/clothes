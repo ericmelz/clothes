{
 "cells": [
  {
   "cell_type": "code",
   "execution_count": 2,
   "id": "0b4d3d80-93b9-496c-850e-5a2f11642391",
   "metadata": {},
   "outputs": [],
   "source": [
    "import base64"
   ]
  },
  {
   "cell_type": "code",
   "execution_count": 3,
   "id": "bf5ecb0f-d508-4f82-84f8-ede7543775cd",
   "metadata": {},
   "outputs": [],
   "source": [
    "import zlib"
   ]
  },
  {
   "cell_type": "code",
   "execution_count": 4,
   "id": "42f5e6e0-1df7-4df7-b9db-32a2e68255ac",
   "metadata": {},
   "outputs": [],
   "source": [
    "import xml.dom.minidom as minidom"
   ]
  },
  {
   "cell_type": "code",
   "execution_count": 15,
   "id": "7a90bc28-960a-4982-a6fb-d66cedb98a60",
   "metadata": {},
   "outputs": [],
   "source": [
    "b64 = open('../saml.txt').read()"
   ]
  },
  {
   "cell_type": "code",
   "execution_count": 16,
   "id": "0397cb3e-83aa-4e4c-80b8-f4b22a63beb0",
   "metadata": {},
   "outputs": [],
   "source": [
    "raw = base64.b64decode(b64 + \"===\")"
   ]
  },
  {
   "cell_type": "raw",
   "id": "ca2078ef-8085-4d69-99a0-efd4f2d30d4b",
   "metadata": {},
   "source": [
    "raw = zlib.decompress(raw, -zlib.MAX_WBITS)"
   ]
  },
  {
   "cell_type": "code",
   "execution_count": 17,
   "id": "70dcf74d-8307-4331-9bca-0974991b09ed",
   "metadata": {},
   "outputs": [],
   "source": [
    "xml = raw.decode('utf-8', errors='replace')"
   ]
  },
  {
   "cell_type": "code",
   "execution_count": 19,
   "id": "137bfc03-bd25-4a3d-a604-80edced8a370",
   "metadata": {},
   "outputs": [
    {
     "name": "stdout",
     "output_type": "stream",
     "text": [
      "<?xml version=\"1.0\" ?>\n",
      "<saml2p:Response xmlns:saml2p=\"urn:oasis:names:tc:SAML:2.0:protocol\" Destination=\"https://us-west-2.signin.aws.amazon.com/platform/saml/acs/d3fec727-554b-48d3-b66e-4731b0856e45\" ID=\"_aa41b3fcf4abb6d052e6d62d217ce146\" IssueInstant=\"2025-08-28T23:15:07.397Z\" Version=\"2.0\">\n",
      "\t<saml2:Issuer xmlns:saml2=\"urn:oasis:names:tc:SAML:2.0:assertion\">https://accounts.google.com/o/saml2?idpid=C0108x3zb</saml2:Issuer>\n",
      "\t<saml2p:Status>\n",
      "\t\t<saml2p:StatusCode Value=\"urn:oasis:names:tc:SAML:2.0:status:Success\"/>\n",
      "\t</saml2p:Status>\n",
      "\t<saml2:Assertion xmlns:saml2=\"urn:oasis:names:tc:SAML:2.0:assertion\" ID=\"_94abe324b5c01a8fa57d6e5b83e94404\" IssueInstant=\"2025-08-28T23:15:07.397Z\" Version=\"2.0\">\n",
      "\t\t<saml2:Issuer>https://accounts.google.com/o/saml2?idpid=C0108x3zb</saml2:Issuer>\n",
      "\t\t<ds:Signature xmlns:ds=\"http://www.w3.org/2000/09/xmldsig#\">\n",
      "\t\t\t<ds:SignedInfo>\n",
      "\t\t\t\t<ds:CanonicalizationMethod Algorithm=\"http://www.w3.org/2001/10/xml-exc-c14n#\"/>\n",
      "\t\t\t\t<ds:SignatureMethod Algorithm=\"http://www.w3.org/2001/04/xmldsig-more#rsa-sha256\"/>\n",
      "\t\t\t\t<ds:Reference URI=\"#_94abe324b5c01a8fa57d6e5b83e94404\">\n",
      "\t\t\t\t\t<ds:Transforms>\n",
      "\t\t\t\t\t\t<ds:Transform Algorithm=\"http://www.w3.org/2000/09/xmldsig#enveloped-signature\"/>\n",
      "\t\t\t\t\t\t<ds:Transform Algorithm=\"http://www.w3.org/2001/10/xml-exc-c14n#\"/>\n",
      "\t\t\t\t\t</ds:Transforms>\n",
      "\t\t\t\t\t<ds:DigestMethod Algorithm=\"http://www.w3.org/2001/04/xmlenc#sha256\"/>\n",
      "\t\t\t\t\t<ds:DigestValue>7Yv9sbiqonY5jm9nNChwIFyxCjg3242t/M5ZCZClV7s=</ds:DigestValue>\n",
      "\t\t\t\t</ds:Reference>\n",
      "\t\t\t</ds:SignedInfo>\n",
      "\t\t\t<ds:SignatureValue>YiFhhR1fQDM9R8XJznzSIYw8Qk4isg1tdDKnm+nNhBtIQiW8N5wNZvDchgtgRcBxBT0Ju9XpSzGj\n",
      "thKkzzgnr1Mp8EYCS6iA7f8VcwGhfKghLkYbGfS5mwahUgFCJuXYQH5VTXEfdjZBtn7n8leltaW5\n",
      "LsSNiU9flJQNiNk094jjH+97FcgTGMjGw1VN4hUR7yLCjmqUc7ZNGdAz8/w5Bb0xOFFCti4ybLWR\n",
      "X5+UPN6F9bw2wDiOmRd+t4dtYuriT4HkeoxM9s0Lp/4ZrXr80815FRxUoUNKnZJihL84UJb/tXPK\n",
      "77ZWXNBOSaIAdFrPHIbLIDudAgxlBwqoOkyHtQ==</ds:SignatureValue>\n",
      "\t\t\t<ds:KeyInfo>\n",
      "\t\t\t\t<ds:X509Data>\n",
      "\t\t\t\t\t<ds:X509SubjectName>ST=California,C=US,OU=Google For Work,CN=Google,L=Mountain View,O=Google Inc.</ds:X509SubjectName>\n",
      "\t\t\t\t\t<ds:X509Certificate>MIIDdDCCAlygAwIBAgIGAZjpIHhKMA0GCSqGSIb3DQEBCwUAMHsxFDASBgNVBAoTC0dvb2dsZSBJ\n",
      "bmMuMRYwFAYDVQQHEw1Nb3VudGFpbiBWaWV3MQ8wDQYDVQQDEwZHb29nbGUxGDAWBgNVBAsTD0dv\n",
      "b2dsZSBGb3IgV29yazELMAkGA1UEBhMCVVMxEzARBgNVBAgTCkNhbGlmb3JuaWEwHhcNMjUwODI3\n",
      "MDEyNDM1WhcNMzAwODI2MDEyNDM1WjB7MRQwEgYDVQQKEwtHb29nbGUgSW5jLjEWMBQGA1UEBxMN\n",
      "TW91bnRhaW4gVmlldzEPMA0GA1UEAxMGR29vZ2xlMRgwFgYDVQQLEw9Hb29nbGUgRm9yIFdvcmsx\n",
      "CzAJBgNVBAYTAlVTMRMwEQYDVQQIEwpDYWxpZm9ybmlhMIIBIjANBgkqhkiG9w0BAQEFAAOCAQ8A\n",
      "MIIBCgKCAQEAsmAGgHhaGHjkXAXJm+4ZDzivkmgKZAeKcSZ55GADIaaI1Avj3Hsv46J+rIlt+Hwf\n",
      "7bCB2OQFVcZML8K2YxVy6ATswlElHlT6CyltHrbmTS4zcgnp/4oZ3BqI9uaZj8r6ShD4nzO5su+4\n",
      "YtE2xaHtPoAeg2RlcbyErxl0BeAHZar+V4W6wXK5KZK3zLsdffLoSMKquGP8t6R29f+dwZkkmujK\n",
      "weTzRTwdQAzW8Tx6EMUMmb3puehTD7EninCrL5Tsi0HGdNgEmeKh3cya5+G96TkVXSQJ2Lj+fRdl\n",
      "L7UgBWahwECkhCNm2+3wNS0c4K/R5lw89gFq7rp+wrIPuX/efwIDAQABMA0GCSqGSIb3DQEBCwUA\n",
      "A4IBAQAPO9B8e4iFQLzyRTZ0GQI+UGJVrlHYphzMvsbaYtzy4curotw8r2uGIOmEwhjrBIvoM8NY\n",
      "7FyemsQY5Yk1FsaVwNZo1ctphFKJxn6zai6mkiwkkcoW/IDBTJRKsDoobsrzrp51jhmeZ2NdG+R1\n",
      "2Kv9lZHviP4w3sdIIlv4xXuwEGqZ8ye9Z/HT2W6tah1UTK/hBRoTISsLpId3EgNdhiLZ5L3rrqSc\n",
      "LUZQyKxrxvyERlVD7GBiwG/953wxP2j7QteAxT52AJmPDWIqGDxW75TBn3rvutQhgeU+vuyCtoPL\n",
      "v/anFvnCSGWuhiJB7hCSmS6+9H658CyP8E47cuz36+7e</ds:X509Certificate>\n",
      "\t\t\t\t</ds:X509Data>\n",
      "\t\t\t</ds:KeyInfo>\n",
      "\t\t</ds:Signature>\n",
      "\t\t<saml2:Subject>\n",
      "\t\t\t<saml2:NameID Format=\"urn:oasis:names:tc:SAML:1.1:nameid-format:emailAddress\">eric@perfin.ai</saml2:NameID>\n",
      "\t\t\t<saml2:SubjectConfirmation Method=\"urn:oasis:names:tc:SAML:2.0:cm:bearer\">\n",
      "\t\t\t\t<saml2:SubjectConfirmationData NotOnOrAfter=\"2025-08-28T23:20:07.397Z\" Recipient=\"https://us-west-2.signin.aws.amazon.com/platform/saml/acs/d3fec727-554b-48d3-b66e-4731b0856e45\"/>\n",
      "\t\t\t</saml2:SubjectConfirmation>\n",
      "\t\t</saml2:Subject>\n",
      "\t\t<saml2:Conditions NotBefore=\"2025-08-28T23:10:07.397Z\" NotOnOrAfter=\"2025-08-28T23:20:07.397Z\">\n",
      "\t\t\t<saml2:AudienceRestriction>\n",
      "\t\t\t\t<saml2:Audience>https://us-west-2.signin.aws.amazon.com/platform/saml/d-9267f8bd2</saml2:Audience>\n",
      "\t\t\t</saml2:AudienceRestriction>\n",
      "\t\t</saml2:Conditions>\n",
      "\t\t<saml2:AttributeStatement>\n",
      "\t\t\t<saml2:Attribute Name=\"http://schemas.xmlsoap.org/ws/2005/05/identity/claims/givenname\">\n",
      "\t\t\t\t<saml2:AttributeValue xmlns:xsd=\"http://www.w3.org/2001/XMLSchema\" xmlns:xsi=\"http://www.w3.org/2001/XMLSchema-instance\" xsi:type=\"xsd:anyType\">Eric</saml2:AttributeValue>\n",
      "\t\t\t</saml2:Attribute>\n",
      "\t\t\t<saml2:Attribute Name=\"http://schemas.xmlsoap.org/ws/2005/05/identity/claims/surname\">\n",
      "\t\t\t\t<saml2:AttributeValue xmlns:xsd=\"http://www.w3.org/2001/XMLSchema\" xmlns:xsi=\"http://www.w3.org/2001/XMLSchema-instance\" xsi:type=\"xsd:anyType\">Melz</saml2:AttributeValue>\n",
      "\t\t\t</saml2:Attribute>\n",
      "\t\t\t<saml2:Attribute Name=\"http://schemas.xmlsoap.org/ws/2005/05/identity/claims/emailaddress\">\n",
      "\t\t\t\t<saml2:AttributeValue xmlns:xsd=\"http://www.w3.org/2001/XMLSchema\" xmlns:xsi=\"http://www.w3.org/2001/XMLSchema-instance\" xsi:type=\"xsd:anyType\">eric@perfin.ai</saml2:AttributeValue>\n",
      "\t\t\t</saml2:Attribute>\n",
      "\t\t</saml2:AttributeStatement>\n",
      "\t\t<saml2:AuthnStatement AuthnInstant=\"2025-08-28T23:03:24.000Z\" SessionIndex=\"_94abe324b5c01a8fa57d6e5b83e94404\">\n",
      "\t\t\t<saml2:AuthnContext>\n",
      "\t\t\t\t<saml2:AuthnContextClassRef>urn:oasis:names:tc:SAML:2.0:ac:classes:unspecified</saml2:AuthnContextClassRef>\n",
      "\t\t\t</saml2:AuthnContext>\n",
      "\t\t</saml2:AuthnStatement>\n",
      "\t</saml2:Assertion>\n",
      "</saml2p:Response>\n",
      "\n"
     ]
    }
   ],
   "source": [
    "print(minidom.parseString(xml).toprettyxml())"
   ]
  },
  {
   "cell_type": "code",
   "execution_count": null,
   "id": "8dc7c1ef-a7af-4c38-a58e-692e4237f349",
   "metadata": {},
   "outputs": [],
   "source": []
  }
 ],
 "metadata": {
  "kernelspec": {
   "display_name": "Python 3 (ipykernel)",
   "language": "python",
   "name": "python3"
  },
  "language_info": {
   "codemirror_mode": {
    "name": "ipython",
    "version": 3
   },
   "file_extension": ".py",
   "mimetype": "text/x-python",
   "name": "python",
   "nbconvert_exporter": "python",
   "pygments_lexer": "ipython3",
   "version": "3.12.11"
  }
 },
 "nbformat": 4,
 "nbformat_minor": 5
}
